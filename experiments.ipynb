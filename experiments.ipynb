{
 "cells": [
  {
   "cell_type": "code",
   "execution_count": 5,
   "metadata": {},
   "outputs": [],
   "source": [
    "import sys\n",
    "sys.path.append('./archs/resnet/')\n",
    "\n",
    "import torch\n",
    "from archs.resnet.resnet import ResNet"
   ]
  },
  {
   "cell_type": "code",
   "execution_count": 6,
   "metadata": {},
   "outputs": [
    {
     "data": {
      "text/plain": [
       "tensor([[-2.9590, -0.7921,  2.1549, -0.1087, -0.6193, -2.2577, -0.3224, -0.9350,\n",
       "         -1.0714,  0.8754]], grad_fn=<AddmmBackward0>)"
      ]
     },
     "execution_count": 6,
     "metadata": {},
     "output_type": "execute_result"
    }
   ],
   "source": [
    "inp = torch.rand((1, 1, 224, 224))\n",
    "model = ResNet('resnet50')\n",
    "model(inp)"
   ]
  }
 ],
 "metadata": {
  "kernelspec": {
   "display_name": "cv_archs_env",
   "language": "python",
   "name": "python3"
  },
  "language_info": {
   "codemirror_mode": {
    "name": "ipython",
    "version": 3
   },
   "file_extension": ".py",
   "mimetype": "text/x-python",
   "name": "python",
   "nbconvert_exporter": "python",
   "pygments_lexer": "ipython3",
   "version": "3.9.14"
  },
  "orig_nbformat": 4,
  "vscode": {
   "interpreter": {
    "hash": "207cfddf33476bf1fc97498ab0ba097e29cdd431df7a5ac73ccb45c0dcdbc5b4"
   }
  }
 },
 "nbformat": 4,
 "nbformat_minor": 2
}
