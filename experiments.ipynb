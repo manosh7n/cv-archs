{
 "cells": [
  {
   "cell_type": "code",
   "execution_count": 1,
   "metadata": {},
   "outputs": [],
   "source": [
    "import sys\n",
    "sys.path.append('./archs/resnet/')\n",
    "\n",
    "import torch\n",
    "from archs.resnet.resnet import ResNet"
   ]
  },
  {
   "cell_type": "code",
   "execution_count": 2,
   "metadata": {},
   "outputs": [
    {
     "data": {
      "text/plain": [
       "tensor([[ 1.0221,  2.1275, -0.8476,  0.7675,  0.3569, -3.1364, -2.3436, -1.3355,\n",
       "          2.5130, -0.8290]], grad_fn=<AddmmBackward0>)"
      ]
     },
     "execution_count": 2,
     "metadata": {},
     "output_type": "execute_result"
    }
   ],
   "source": [
    "inp = torch.rand((1, 1, 224, 224))\n",
    "model = ResNet('resnet50', init_weights=True)\n",
    "model(inp)"
   ]
  },
  {
   "cell_type": "code",
   "execution_count": null,
   "metadata": {},
   "outputs": [],
   "source": []
  }
 ],
 "metadata": {
  "kernelspec": {
   "display_name": "cv_archs_env",
   "language": "python",
   "name": "python3"
  },
  "language_info": {
   "codemirror_mode": {
    "name": "ipython",
    "version": 3
   },
   "file_extension": ".py",
   "mimetype": "text/x-python",
   "name": "python",
   "nbconvert_exporter": "python",
   "pygments_lexer": "ipython3",
   "version": "3.9.14"
  },
  "orig_nbformat": 4,
  "vscode": {
   "interpreter": {
    "hash": "207cfddf33476bf1fc97498ab0ba097e29cdd431df7a5ac73ccb45c0dcdbc5b4"
   }
  }
 },
 "nbformat": 4,
 "nbformat_minor": 2
}
